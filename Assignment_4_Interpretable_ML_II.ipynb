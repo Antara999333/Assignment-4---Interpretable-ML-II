{
  "nbformat": 4,
  "nbformat_minor": 0,
  "metadata": {
    "colab": {
      "provenance": [],
      "authorship_tag": "ABX9TyMRZ4Yh4+9oSnWG1+jqchVB",
      "include_colab_link": true
    },
    "kernelspec": {
      "name": "python3",
      "display_name": "Python 3"
    },
    "language_info": {
      "name": "python"
    }
  },
  "cells": [
    {
      "cell_type": "markdown",
      "metadata": {
        "id": "view-in-github",
        "colab_type": "text"
      },
      "source": [
        "<a href=\"https://colab.research.google.com/github/Antara999333/Assignment-4---Interpretable-ML-II/blob/main/Assignment_4_Interpretable_ML_II.ipynb\" target=\"_parent\"><img src=\"https://colab.research.google.com/assets/colab-badge.svg\" alt=\"Open In Colab\"/></a>"
      ]
    },
    {
      "cell_type": "code",
      "source": [
        "# Please use this to connect your GitHub repository to your Google Colab notebook\n",
        "import os\n",
        "\n",
        "# Remove Colab default sample_data\n",
        "!rm -r ./sample_data\n",
        "\n",
        "# Clone GitHub files to colab workspace\n",
        "repo_name = \"Assignment-4---Interpretable-ML-II\"  # Your repo name\n",
        "git_path = 'https://github.com/Antara999333/Assignment-4---Interpretable-ML-II.git'  # GitHub repo path\n",
        "!git clone \"{git_path}\"\n",
        "\n",
        "# No need to change directories if everything is in the root of the repo\n",
        "# You can list files directly in the main repo folder\n",
        "%cd \"{repo_name}\"\n",
        "%ls\n"
      ],
      "metadata": {
        "colab": {
          "base_uri": "https://localhost:8080/"
        },
        "id": "5yqSDMos1Xx7",
        "outputId": "afdfa580-c61a-4c86-8f0d-3cfa3e1fac2f"
      },
      "execution_count": 2,
      "outputs": [
        {
          "output_type": "stream",
          "name": "stdout",
          "text": [
            "Cloning into 'Assignment-4---Interpretable-ML-II'...\n",
            "warning: You appear to have cloned an empty repository.\n",
            "/content/Assignment-4---Interpretable-ML-II\n"
          ]
        }
      ]
    },
    {
      "cell_type": "markdown",
      "source": [
        "ok"
      ],
      "metadata": {
        "id": "OA7mu0da4VPG"
      }
    }
  ]
}