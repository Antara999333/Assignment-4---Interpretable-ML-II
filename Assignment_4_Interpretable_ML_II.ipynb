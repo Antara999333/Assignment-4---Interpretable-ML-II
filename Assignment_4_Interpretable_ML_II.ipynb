{
  "nbformat": 4,
  "nbformat_minor": 0,
  "metadata": {
    "colab": {
      "provenance": [],
      "gpuType": "T4",
      "authorship_tag": "ABX9TyNkNDQlL4IUmrUSpgyDi6J0",
      "include_colab_link": true
    },
    "kernelspec": {
      "name": "python3",
      "display_name": "Python 3"
    },
    "language_info": {
      "name": "python"
    },
    "accelerator": "GPU"
  },
  "cells": [
    {
      "cell_type": "markdown",
      "metadata": {
        "id": "view-in-github",
        "colab_type": "text"
      },
      "source": [
        "<a href=\"https://colab.research.google.com/github/Antara999333/Assignment-4---Interpretable-ML-II/blob/main/Assignment_4_Interpretable_ML_II.ipynb\" target=\"_parent\"><img src=\"https://colab.research.google.com/assets/colab-badge.svg\" alt=\"Open In Colab\"/></a>"
      ]
    },
    {
      "cell_type": "code",
      "source": [
        "# Install the necessary libraries\n",
        "!pip install imodels\n",
        "!pip install seaborn\n",
        "\n",
        "import pandas as pd\n",
        "import numpy as np\n",
        "import seaborn as sns\n",
        "from sklearn.model_selection import train_test_split\n",
        "from sklearn.metrics import accuracy_score, classification_report\n",
        "from imodels import BoostedRulesClassifier, SkopeRulesClassifier, GreedyRuleListClassifier\n",
        "\n",
        "# Load the Titanic dataset from seaborn\n",
        "titanic = sns.load_dataset('titanic')\n",
        "\n",
        "# Data Preprocessing\n",
        "# Dropping irrelevant columns and handling missing values\n",
        "titanic = titanic.drop(columns=['deck', 'embark_town', 'alive', 'who', 'adult_male'], errors='ignore')\n",
        "titanic = titanic.dropna(subset=['age', 'embarked', 'fare', 'sex'])\n",
        "\n",
        "# Convert categorical variables to numerical\n",
        "titanic['sex'] = titanic['sex'].map({'male': 0, 'female': 1})\n",
        "titanic['embarked'] = titanic['embarked'].map({'C': 0, 'Q': 1, 'S': 2})\n",
        "\n",
        "# Define features and target (using selected features)\n",
        "X = titanic[['pclass', 'sex', 'age', 'fare']]\n",
        "y = titanic['survived']\n",
        "\n",
        "# Split the dataset into training and testing sets\n",
        "X_train, X_test, y_train, y_test = train_test_split(X, y, test_size=0.2, random_state=42)\n",
        "\n",
        "# Function to evaluate the model\n",
        "def evaluate_model(model, X_train, y_train, X_test, y_test, model_name):\n",
        "    model.fit(X_train, y_train)\n",
        "    y_pred = model.predict(X_test)\n",
        "\n",
        "    print(f\"--- {model_name} ---\")\n",
        "    print(\"Accuracy:\", accuracy_score(y_test, y_pred))\n",
        "    print(\"\\nClassification Report:\\n\", classification_report(y_test, y_pred))\n",
        "\n",
        "\n"
      ],
      "metadata": {
        "id": "Ti-YuCLvWQj7",
        "outputId": "4ba27ca0-acdd-4fc6-d21a-576ed1c0669b",
        "colab": {
          "base_uri": "https://localhost:8080/"
        }
      },
      "execution_count": 39,
      "outputs": [
        {
          "output_type": "stream",
          "name": "stderr",
          "text": [
            "/usr/local/lib/python3.10/dist-packages/ipykernel/ipkernel.py:283: DeprecationWarning: `should_run_async` will not call `transform_cell` automatically in the future. Please pass the result to `transformed_cell` argument and any exception that happen during thetransform in `preprocessing_exc_tuple` in IPython 7.17 and above.\n",
            "  and should_run_async(code)\n"
          ]
        },
        {
          "output_type": "stream",
          "name": "stdout",
          "text": [
            "Requirement already satisfied: imodels in /usr/local/lib/python3.10/dist-packages (1.4.6)\n",
            "Requirement already satisfied: matplotlib in /usr/local/lib/python3.10/dist-packages (from imodels) (3.7.1)\n",
            "Requirement already satisfied: mlxtend>=0.18.0 in /usr/local/lib/python3.10/dist-packages (from imodels) (0.23.1)\n",
            "Requirement already satisfied: numpy in /usr/local/lib/python3.10/dist-packages (from imodels) (1.26.4)\n",
            "Requirement already satisfied: pandas in /usr/local/lib/python3.10/dist-packages (from imodels) (2.1.4)\n",
            "Requirement already satisfied: requests in /usr/local/lib/python3.10/dist-packages (from imodels) (2.32.3)\n",
            "Requirement already satisfied: scipy in /usr/local/lib/python3.10/dist-packages (from imodels) (1.13.1)\n",
            "Requirement already satisfied: scikit-learn>=1.2.0 in /usr/local/lib/python3.10/dist-packages (from imodels) (1.5.2)\n",
            "Requirement already satisfied: tqdm in /usr/local/lib/python3.10/dist-packages (from imodels) (4.66.5)\n",
            "Requirement already satisfied: joblib>=0.13.2 in /usr/local/lib/python3.10/dist-packages (from mlxtend>=0.18.0->imodels) (1.4.2)\n",
            "Requirement already satisfied: contourpy>=1.0.1 in /usr/local/lib/python3.10/dist-packages (from matplotlib->imodels) (1.3.0)\n",
            "Requirement already satisfied: cycler>=0.10 in /usr/local/lib/python3.10/dist-packages (from matplotlib->imodels) (0.12.1)\n",
            "Requirement already satisfied: fonttools>=4.22.0 in /usr/local/lib/python3.10/dist-packages (from matplotlib->imodels) (4.53.1)\n",
            "Requirement already satisfied: kiwisolver>=1.0.1 in /usr/local/lib/python3.10/dist-packages (from matplotlib->imodels) (1.4.7)\n",
            "Requirement already satisfied: packaging>=20.0 in /usr/local/lib/python3.10/dist-packages (from matplotlib->imodels) (24.1)\n",
            "Requirement already satisfied: pillow>=6.2.0 in /usr/local/lib/python3.10/dist-packages (from matplotlib->imodels) (10.4.0)\n",
            "Requirement already satisfied: pyparsing>=2.3.1 in /usr/local/lib/python3.10/dist-packages (from matplotlib->imodels) (3.1.4)\n",
            "Requirement already satisfied: python-dateutil>=2.7 in /usr/local/lib/python3.10/dist-packages (from matplotlib->imodels) (2.8.2)\n",
            "Requirement already satisfied: pytz>=2020.1 in /usr/local/lib/python3.10/dist-packages (from pandas->imodels) (2024.2)\n",
            "Requirement already satisfied: tzdata>=2022.1 in /usr/local/lib/python3.10/dist-packages (from pandas->imodels) (2024.1)\n",
            "Requirement already satisfied: threadpoolctl>=3.1.0 in /usr/local/lib/python3.10/dist-packages (from scikit-learn>=1.2.0->imodels) (3.5.0)\n",
            "Requirement already satisfied: charset-normalizer<4,>=2 in /usr/local/lib/python3.10/dist-packages (from requests->imodels) (3.3.2)\n",
            "Requirement already satisfied: idna<4,>=2.5 in /usr/local/lib/python3.10/dist-packages (from requests->imodels) (3.10)\n",
            "Requirement already satisfied: urllib3<3,>=1.21.1 in /usr/local/lib/python3.10/dist-packages (from requests->imodels) (2.2.3)\n",
            "Requirement already satisfied: certifi>=2017.4.17 in /usr/local/lib/python3.10/dist-packages (from requests->imodels) (2024.8.30)\n",
            "Requirement already satisfied: six>=1.5 in /usr/local/lib/python3.10/dist-packages (from python-dateutil>=2.7->matplotlib->imodels) (1.16.0)\n",
            "Requirement already satisfied: seaborn in /usr/local/lib/python3.10/dist-packages (0.13.1)\n",
            "Requirement already satisfied: numpy!=1.24.0,>=1.20 in /usr/local/lib/python3.10/dist-packages (from seaborn) (1.26.4)\n",
            "Requirement already satisfied: pandas>=1.2 in /usr/local/lib/python3.10/dist-packages (from seaborn) (2.1.4)\n",
            "Requirement already satisfied: matplotlib!=3.6.1,>=3.4 in /usr/local/lib/python3.10/dist-packages (from seaborn) (3.7.1)\n",
            "Requirement already satisfied: contourpy>=1.0.1 in /usr/local/lib/python3.10/dist-packages (from matplotlib!=3.6.1,>=3.4->seaborn) (1.3.0)\n",
            "Requirement already satisfied: cycler>=0.10 in /usr/local/lib/python3.10/dist-packages (from matplotlib!=3.6.1,>=3.4->seaborn) (0.12.1)\n",
            "Requirement already satisfied: fonttools>=4.22.0 in /usr/local/lib/python3.10/dist-packages (from matplotlib!=3.6.1,>=3.4->seaborn) (4.53.1)\n",
            "Requirement already satisfied: kiwisolver>=1.0.1 in /usr/local/lib/python3.10/dist-packages (from matplotlib!=3.6.1,>=3.4->seaborn) (1.4.7)\n",
            "Requirement already satisfied: packaging>=20.0 in /usr/local/lib/python3.10/dist-packages (from matplotlib!=3.6.1,>=3.4->seaborn) (24.1)\n",
            "Requirement already satisfied: pillow>=6.2.0 in /usr/local/lib/python3.10/dist-packages (from matplotlib!=3.6.1,>=3.4->seaborn) (10.4.0)\n",
            "Requirement already satisfied: pyparsing>=2.3.1 in /usr/local/lib/python3.10/dist-packages (from matplotlib!=3.6.1,>=3.4->seaborn) (3.1.4)\n",
            "Requirement already satisfied: python-dateutil>=2.7 in /usr/local/lib/python3.10/dist-packages (from matplotlib!=3.6.1,>=3.4->seaborn) (2.8.2)\n",
            "Requirement already satisfied: pytz>=2020.1 in /usr/local/lib/python3.10/dist-packages (from pandas>=1.2->seaborn) (2024.2)\n",
            "Requirement already satisfied: tzdata>=2022.1 in /usr/local/lib/python3.10/dist-packages (from pandas>=1.2->seaborn) (2024.1)\n",
            "Requirement already satisfied: six>=1.5 in /usr/local/lib/python3.10/dist-packages (from python-dateutil>=2.7->matplotlib!=3.6.1,>=3.4->seaborn) (1.16.0)\n"
          ]
        }
      ]
    },
    {
      "cell_type": "code",
      "source": [
        "# Check the number of rows and columns after transformations\n",
        "num_rows, num_columns = titanic.shape\n",
        "print(f\"Number of rows: {num_rows}, Number of columns: {num_columns}\")\n"
      ],
      "metadata": {
        "id": "JKJgjmWTacqJ",
        "outputId": "75c07379-0a84-4f4f-cd6a-a9ce5630e941",
        "colab": {
          "base_uri": "https://localhost:8080/"
        }
      },
      "execution_count": 40,
      "outputs": [
        {
          "output_type": "stream",
          "name": "stdout",
          "text": [
            "Number of rows: 712, Number of columns: 10\n"
          ]
        },
        {
          "output_type": "stream",
          "name": "stderr",
          "text": [
            "/usr/local/lib/python3.10/dist-packages/ipykernel/ipkernel.py:283: DeprecationWarning: `should_run_async` will not call `transform_cell` automatically in the future. Please pass the result to `transformed_cell` argument and any exception that happen during thetransform in `preprocessing_exc_tuple` in IPython 7.17 and above.\n",
            "  and should_run_async(code)\n"
          ]
        }
      ]
    },
    {
      "cell_type": "markdown",
      "source": [
        "# The 3 models that I have used are Boosted Rules Classifier, Scope Rules Classifier and Greedy Rule Classifier"
      ],
      "metadata": {
        "id": "I6XM2SswjTPC"
      }
    },
    {
      "cell_type": "markdown",
      "source": [
        "# Boosted Rules Classifier"
      ],
      "metadata": {
        "id": "zKM-KxpulB4N"
      }
    },
    {
      "cell_type": "code",
      "source": [
        "\n",
        "# 1. Boosted Rules Classifier\n",
        "boosted_model = BoostedRulesClassifier()\n",
        "evaluate_model(boosted_model, X_train, y_train, X_test, y_test, \"Boosted Rules Classifier\")"
      ],
      "metadata": {
        "id": "NRzw9hI_eyMk",
        "outputId": "6201f730-38ff-4ce1-921c-ccd21d3b86ec",
        "colab": {
          "base_uri": "https://localhost:8080/"
        }
      },
      "execution_count": 36,
      "outputs": [
        {
          "output_type": "stream",
          "name": "stdout",
          "text": [
            "--- Boosted Rules Classifier ---\n",
            "Accuracy: 0.7552447552447552\n",
            "\n",
            "Classification Report:\n",
            "               precision    recall  f1-score   support\n",
            "\n",
            "           0       0.79      0.76      0.78        80\n",
            "           1       0.71      0.75      0.73        63\n",
            "\n",
            "    accuracy                           0.76       143\n",
            "   macro avg       0.75      0.75      0.75       143\n",
            "weighted avg       0.76      0.76      0.76       143\n",
            "\n"
          ]
        },
        {
          "output_type": "stream",
          "name": "stderr",
          "text": [
            "/usr/local/lib/python3.10/dist-packages/ipykernel/ipkernel.py:283: DeprecationWarning: `should_run_async` will not call `transform_cell` automatically in the future. Please pass the result to `transformed_cell` argument and any exception that happen during thetransform in `preprocessing_exc_tuple` in IPython 7.17 and above.\n",
            "  and should_run_async(code)\n",
            "/usr/local/lib/python3.10/dist-packages/sklearn/ensemble/_weight_boosting.py:527: FutureWarning: The SAMME.R algorithm (the default) is deprecated and will be removed in 1.6. Use the SAMME algorithm to circumvent this warning.\n",
            "  warnings.warn(\n",
            "/usr/local/lib/python3.10/dist-packages/sklearn/base.py:486: UserWarning: X has feature names, but BoostedRulesClassifier was fitted without feature names\n",
            "  warnings.warn(\n"
          ]
        }
      ]
    },
    {
      "cell_type": "markdown",
      "source": [
        "## Explanation:\n",
        "\n",
        "Explanation of the Boosted Rules Classifier Results\n",
        "The Boosted Rules Classifier is a powerful ensemble learning method that sequentially combines weak classifiers to improve overall model accuracy. In my evaluation, the model achieved an accuracy of approximately 75.5% on the test dataset.\n",
        "\n",
        "## The Algorithm\n",
        "The Boosted Rules Classifier is an ensemble method that builds a sequence of weak learners (often simple decision trees) to create a strong predictive model. By focusing on misclassified instances, it aims to improve overall accuracy.\n",
        "\n",
        "## Initialization:\n",
        "\n",
        "The algorithm starts with a weak learner, such as a shallow decision tree, initialized to make predictions on the training data (X_train and y_train). The first model might not capture complex patterns due to its simplicity.\n",
        "\n",
        "## Fitting the Model:\n",
        "\n",
        "For my  dataset, the model is fitted to the predictors:\n",
        "pclass: Integer (1, 2, or 3) representing the passenger class.\n",
        "sex: Binary (0 for male, 1 for female).\n",
        "age: Float (the age of the passenger).\n",
        "fare: Float (the ticket fare).\n",
        "The model generates initial predictions based on these features, classifying passengers as either survived (1) or not survived (0).\n",
        "\n",
        "## Error Calculation:\n",
        "\n",
        "The algorithm calculates the error by comparing its predictions against the actual survival labels (y_train). Instances that were misclassified are noted for increased attention in the next iteration.\n",
        "\n",
        "##Weight Adjustment:\n",
        "\n",
        "The weights of the misclassified instances are increased, meaning the model will prioritize these cases in the next iteration. For example, if a female passenger in first class was misclassified, the next model will give more emphasis on learning from similar instances.\n",
        "\n",
        "##Iterative Process:\n",
        "\n",
        " Each new model learns from the mistakes of previous models, refining its predictions.\n",
        "\n",
        "##Final Prediction:\n",
        "\n",
        "The final output combines the predictions of all weak learners. Models that performed better on misclassified instances contribute more heavily to the final classification."
      ],
      "metadata": {
        "id": "R6pWzt9dj768"
      }
    },
    {
      "cell_type": "markdown",
      "source": [
        "# Skope Rules Classifier"
      ],
      "metadata": {
        "id": "UbTXs7Mt6z5o"
      }
    },
    {
      "cell_type": "code",
      "source": [
        "# 2. Skope Rules Classifier\n",
        "skope_model = SkopeRulesClassifier()\n",
        "evaluate_model(skope_model, X_train, y_train, X_test, y_test, \"Skope Rules Classifier\")"
      ],
      "metadata": {
        "id": "Dd1WhGire5dr",
        "outputId": "553bb951-4f6b-4262-e020-326bb11d5486",
        "colab": {
          "base_uri": "https://localhost:8080/"
        }
      },
      "execution_count": 37,
      "outputs": [
        {
          "output_type": "stream",
          "name": "stderr",
          "text": [
            "/usr/local/lib/python3.10/dist-packages/ipykernel/ipkernel.py:283: DeprecationWarning: `should_run_async` will not call `transform_cell` automatically in the future. Please pass the result to `transformed_cell` argument and any exception that happen during thetransform in `preprocessing_exc_tuple` in IPython 7.17 and above.\n",
            "  and should_run_async(code)\n"
          ]
        },
        {
          "output_type": "stream",
          "name": "stdout",
          "text": [
            "--- Skope Rules Classifier ---\n",
            "Accuracy: 0.5594405594405595\n",
            "\n",
            "Classification Report:\n",
            "               precision    recall  f1-score   support\n",
            "\n",
            "           0       0.56      1.00      0.72        80\n",
            "           1       0.00      0.00      0.00        63\n",
            "\n",
            "    accuracy                           0.56       143\n",
            "   macro avg       0.28      0.50      0.36       143\n",
            "weighted avg       0.31      0.56      0.40       143\n",
            "\n"
          ]
        },
        {
          "output_type": "stream",
          "name": "stderr",
          "text": [
            "/usr/local/lib/python3.10/dist-packages/sklearn/metrics/_classification.py:1531: UndefinedMetricWarning: Precision is ill-defined and being set to 0.0 in labels with no predicted samples. Use `zero_division` parameter to control this behavior.\n",
            "  _warn_prf(average, modifier, f\"{metric.capitalize()} is\", len(result))\n",
            "/usr/local/lib/python3.10/dist-packages/sklearn/metrics/_classification.py:1531: UndefinedMetricWarning: Precision is ill-defined and being set to 0.0 in labels with no predicted samples. Use `zero_division` parameter to control this behavior.\n",
            "  _warn_prf(average, modifier, f\"{metric.capitalize()} is\", len(result))\n",
            "/usr/local/lib/python3.10/dist-packages/sklearn/metrics/_classification.py:1531: UndefinedMetricWarning: Precision is ill-defined and being set to 0.0 in labels with no predicted samples. Use `zero_division` parameter to control this behavior.\n",
            "  _warn_prf(average, modifier, f\"{metric.capitalize()} is\", len(result))\n"
          ]
        }
      ]
    },
    {
      "cell_type": "markdown",
      "source": [
        "## Explanation:\n",
        "The Skope Rules Classifier is a rule-based classification algorithm that aims to create interpretable rules for predicting outcomes based on feature values. In my evaluation of my dataset, the model achieved an accuracy of approximately 55.9% on the test dataset, but the results indicate a significant limitation in its predictive capability for the positive class (survival, which I have coded as 1)."
      ],
      "metadata": {
        "id": "SSum1WQulPHN"
      }
    },
    {
      "cell_type": "markdown",
      "source": [
        "# The Algorithm\n",
        "\n",
        "## Feature Selection:\n",
        "\n",
        "The algorithm evaluates the importance of the predictors:\n",
        "pclass: Integer\n",
        "sex: Binary\n",
        "age: Float\n",
        "fare: Float\n",
        "It may use statistical measures (e.g., correlation, p-values) to determine which features have the most impact on survival.\n",
        "\n",
        "## Rule Generation:\n",
        "\n",
        "Based on selected features, the algorithm generates conditional rules. For instance, it might create a rule: \"If pclass = 1 and sex = 1, then survived = 1,\" suggesting that a first-class female is likely to survive.\n",
        "\n",
        "##Rule Evaluation:\n",
        "\n",
        "Each generated rule is tested against the training dataset to calculate its accuracy. The algorithm checks how many instances are correctly predicted by each rule.\n",
        "\n",
        "##Rule Pruning:\n",
        "\n",
        "The model removes less significant or redundant rules that do not improve classification accuracy, ensuring that only the most effective rules remain.\n",
        "\n",
        "##Final Prediction:\n",
        "\n",
        "For new instances in the test set (X_test), the model applies the selected rules to predict survival outcomes. If multiple rules apply, the first applicable one is used."
      ],
      "metadata": {
        "id": "kF6nb7R6llJ-"
      }
    },
    {
      "cell_type": "markdown",
      "source": [],
      "metadata": {
        "id": "R7lSzpQu6wjK"
      }
    },
    {
      "cell_type": "markdown",
      "source": [
        "# Greedy Rules List"
      ],
      "metadata": {
        "id": "bXrQPPqS63Sy"
      }
    },
    {
      "cell_type": "code",
      "source": [
        "# 3. Greedy Rule List Classifier\n",
        "greedy_model = GreedyRuleListClassifier()\n",
        "evaluate_model(greedy_model, X_train, y_train, X_test, y_test, \"Greedy Rule List Classifier\")"
      ],
      "metadata": {
        "id": "7jdQ81iUe7zE",
        "outputId": "33895c4f-ae6f-4704-848c-6edbf53fac8b",
        "colab": {
          "base_uri": "https://localhost:8080/"
        }
      },
      "execution_count": 38,
      "outputs": [
        {
          "output_type": "stream",
          "name": "stdout",
          "text": [
            "--- Greedy Rule List Classifier ---\n",
            "Accuracy: 0.7622377622377622\n",
            "\n",
            "Classification Report:\n",
            "               precision    recall  f1-score   support\n",
            "\n",
            "           0       0.77      0.82      0.80        80\n",
            "           1       0.75      0.68      0.72        63\n",
            "\n",
            "    accuracy                           0.76       143\n",
            "   macro avg       0.76      0.75      0.76       143\n",
            "weighted avg       0.76      0.76      0.76       143\n",
            "\n"
          ]
        },
        {
          "output_type": "stream",
          "name": "stderr",
          "text": [
            "/usr/local/lib/python3.10/dist-packages/ipykernel/ipkernel.py:283: DeprecationWarning: `should_run_async` will not call `transform_cell` automatically in the future. Please pass the result to `transformed_cell` argument and any exception that happen during thetransform in `preprocessing_exc_tuple` in IPython 7.17 and above.\n",
            "  and should_run_async(code)\n"
          ]
        }
      ]
    },
    {
      "cell_type": "markdown",
      "source": [
        "# Explanation\n",
        "\n",
        "The Greedy Rule List Classifier is a rule-based algorithm that uses a greedy approach to sequentially construct a list of rules, optimizing for accuracy with each added rule. In my case in my dataset, the classifier achieved an accuracy of 76.2%, which means the model correctly predicted 76.2% of the survival outcomes on my dataset.\n",
        "\n",
        "# Algorithm\n",
        "The Greedy Rule List Classifier constructs a list of rules in a sequential manner, using a greedy approach to ensure that only the most accurate rules are retained.\n",
        "\n",
        "# Rule Initialization:\n",
        "\n",
        "The classifier starts with an empty list of rules.\n",
        "\n",
        "# Rule Creation:\n",
        "\n",
        "For each predictor (pclass, sex, age, fare), potential rules are identified. For instance, a rule might look like \"If sex = 1, then survived = 1,\" indicating that females are more likely to survive.\n",
        "Rule Evaluation:\n",
        "\n",
        "Each rule is tested against the training dataset to determine its prediction accuracy. For example, it would calculate how many times the rule correctly predicts survival.\n",
        "\n",
        "#Greedy Selection:\n",
        "\n",
        "The rule with the highest accuracy is selected and added to the rule list. The algorithm then removes the instances from the training set that this rule correctly predicted.\n",
        "Iteration:\n",
        "\n",
        "Steps 3-4 are repeated until no new rules can be created that improve accuracy. This ensures the model is focused on the most predictive rules without unnecessary complexity.\n",
        "\n",
        "#Final Prediction:\n",
        "\n",
        "When predicting for the test set, the model traverses the rule list and applies the first applicable rule to make a prediction for each instance."
      ],
      "metadata": {
        "id": "SW5xJ9cf7ms4"
      }
    }
  ]
}